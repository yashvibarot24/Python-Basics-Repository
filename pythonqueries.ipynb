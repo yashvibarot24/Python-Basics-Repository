{
 "cells": [
  {
   "cell_type": "markdown",
   "id": "6da387d6",
   "metadata": {},
   "source": [
    "<u><b>Office Hours Session 6</b></u>\n",
    "\n",
    "This Jupyter Notebook corresponds to Office Hours Session 6 (Python Basics)."
   ]
  },
  {
   "cell_type": "code",
   "execution_count": null,
   "id": "9e14742e",
   "metadata": {},
   "outputs": [],
   "source": [
    "# Variables and Data Types\n",
    "\n",
    "x = 5                       # integer\n",
    "y = 4.4                     # float\n",
    "z = True                    # boolean (True/False)\n",
    "a = \"hello world!\"          # string\n",
    "b = 'also hello world!'     # also a string - notice you can use single or double quotes\n",
    "c = 'I\\'m the best'         # notice that if you use an apostrophe ' in a single-quote string, you have\n",
    "                            # to use a \\ to tell Python that the string does not end with the apostrophe\n",
    "    \n",
    "    \n",
    "# print(b)                    # this will print 'also hello world!' because variable b is defined\n",
    "# print(B)                    # this will throw an error since variable B is not defined.\n",
    "                              # Python is case-sensitive! 'B' is not the same as 'b'"
   ]
  },
  {
   "cell_type": "code",
   "execution_count": null,
   "id": "2a1c1a63",
   "metadata": {},
   "outputs": [],
   "source": [
    "print(type(x))              # should be an integer\n",
    "print(type(y))              # should be a float\n",
    "print(type(z))              # should be a bool\n",
    "print(type(a))              # should be a string\n",
    "print(type(b))              # should be a string\n",
    "print(type(c))              # should be a string"
   ]
  },
  {
   "cell_type": "code",
   "execution_count": null,
   "id": "7407bfee",
   "metadata": {},
   "outputs": [],
   "source": [
    "# The data type of a variable depends on its LAST ASSIGNED VALUE\n",
    "# Example:\n",
    "\n",
    "x = 5                      # the variable x has an integer value of 5\n",
    "print(type(x))             # should be an integer\n",
    "x = 5.5                    # the variable x now has a float value of 5.5\n",
    "print(type(x))             # this should now have changed to a float"
   ]
  },
  {
   "cell_type": "code",
   "execution_count": null,
   "id": "87f055d2",
   "metadata": {},
   "outputs": [],
   "source": [
    "# Python is usually pretty good about comparing or converting from ints to floats, but not always\n",
    "\n",
    "b = 5\n",
    "print(b)\n",
    "print(type(b))             # Up until this point, b will be a type integer\n",
    "b += .2\n",
    "print(b)\n",
    "print(type(b))             # but here, because we've added a decimal value, it will convert to float\n",
    "\n",
    "c = 5\n",
    "d = 5.5\n",
    "print(c < d)               # This should print 'True', because 5 < 5.5"
   ]
  },
  {
   "cell_type": "code",
   "execution_count": 3,
   "id": "f71a64f1",
   "metadata": {},
   "outputs": [
    {
     "name": "stdout",
     "output_type": "stream",
     "text": [
      "1\n",
      "1\n",
      "<class 'str'>\n",
      "<class 'int'>\n",
      "False\n"
     ]
    }
   ],
   "source": [
    "# Type Conversion\n",
    "# Sometimes, you want items to be specific data types so you can do certain things with them.\n",
    "\n",
    "x = \"1\"                    # This is a type string\n",
    "y = 2                      # This is an integer\n",
    "z = 3.0                    # This is a float\n",
    "a = True                   # This is a Boolean\n",
    "\n",
    "# What if we want to do the following?\n",
    "\n",
    "# b = x + y + z              # This will not work.  Why?\n",
    "x2 = int(x)                  # Casts the value of x to become an integer\n",
    "b = x2 + y + z\n",
    "\n",
    "# Other checks:\n",
    "print(x)\n",
    "print(x2)\n",
    "print(type(x))\n",
    "print(type(x2))\n",
    "print(x == x2)             # This will return False, because the two types are different!"
   ]
  },
  {
   "cell_type": "code",
   "execution_count": 4,
   "id": "75c95329",
   "metadata": {},
   "outputs": [
    {
     "name": "stdout",
     "output_type": "stream",
     "text": [
      "123\n"
     ]
    }
   ],
   "source": [
    "# More casting examples\n",
    "x = 1\n",
    "x = bool(x)               # Casts to bool\n",
    "                          # Note: this works for float or int values of 0 or 1 only.  0 == False, 1 == True\n",
    "                          # Any values >1 also return True\n",
    "x = float(x)              # Casts to float\n",
    "x = int(x)                # Casts back to int (if there are any values after the decimal, they will be removed)\n",
    "x = str(x)                # Casts to string\n",
    "\n",
    "z = \"xxx\"\n",
    "z = bool(z)               # When casting strings to bools, for whatever reason, it always casts to True\n",
    "\n",
    "# Note: you can't cast from non-numeric strings to numbers!\n",
    "y = \"hello\"\n",
    "# The following will raise an error:\n",
    "# y = int(y)  # This will cause a ValueError because \"hello\" is not a number.\n",
    "\n",
    "# To prevent the error, use a string that can be converted into an integer:\n",
    "y = \"123\"                  # Valid string for casting to int\n",
    "y = int(y)                 # Now this works and y will be 123\n",
    "print(y)                   # Output: 123"
   ]
  },
  {
   "cell_type": "code",
   "execution_count": null,
   "id": "2bc932d6",
   "metadata": {},
   "outputs": [],
   "source": [
    "# Keywords\n",
    "# Some words in Python mean something very specific, and therefore, you cannot use them as variable names\n",
    "\n",
    "Class = 'hello'            # this is fine\n",
    "class = 'hello'            # this will not work since 'class' is a keyword in Python\n",
    "                           # Notice that Jupyter bolded and changed the color of the word!"
   ]
  },
  {
   "cell_type": "code",
   "execution_count": null,
   "id": "b0c32007",
   "metadata": {},
   "outputs": [],
   "source": [
    "# Operators\n",
    "# Operators are special symbols or keywords that allow for computation between variables"
   ]
  },
  {
   "cell_type": "code",
   "execution_count": null,
   "id": "8f9a55a0",
   "metadata": {},
   "outputs": [],
   "source": [
    "# Arithmetic Operators\n",
    "\n",
    "x = 5 + 2                  # Addition\n",
    "x = 5 - 2                  # Subtraction\n",
    "x = 5 * 2                  # Multiplication\n",
    "x = 5 / 2                  # Division - will return the exact result as a float\n",
    "x = 5 ** 2                 # Exponentiation (returns 5^2)\n",
    "x = 5 // 2                 # Integer Division - will divide WHOLE NUMBERS only\n",
    "                           # ex. 5 // 2 will return '2'\n",
    "                           # because you can fit only 2 '2s' into 5\n",
    "                           # Another way to think about it: it returns the integer value\n",
    "                           # of 5 / 2 (rounded down)\n",
    "x = 5 % 2                  # Modulo (remainder)\n",
    "                           # This returns the 'leftover' value of integer division\n",
    "                           # ex. if we consider 5 // 2: 5 = 2 + 2 + 1\n",
    "                           # we have two whole '2s', and a remainder of '1'"
   ]
  },
  {
   "cell_type": "code",
   "execution_count": null,
   "id": "6aeecd80",
   "metadata": {},
   "outputs": [],
   "source": [
    "# Assignment Operators\n",
    "# Used to set or modify variable values\n",
    "\n",
    "x = 2                      # sets the value of variable x to 2\n",
    "x += 2                     # sets the value of variable x to whatever its previous value was, plus 2\n",
    "x -= 2                     # sets the value of variable x to whatever its previous value was, minus 2\n",
    "\n",
    "# So, in order: at line 4, x = 2.  At line 5, x = 4.  Then at line 6, x = 2 again.\n",
    "\n",
    "# Example with floats:\n",
    "z = 5.5                    # z = 5.5\n",
    "z += 2.5                   # z = 8.0\n",
    "\n",
    "\n",
    "# The += operator can also be used for strings.  This is known as 'concatenation'.\n",
    "# Note that the '-=' operator does NOT work on strings, however.\n",
    "y = 'Can the += assignment operator work on strings? '\n",
    "print(y)\n",
    "y += 'Answer: yes.'\n",
    "(print(y))\n",
    "\n",
    "# The following will not work.  Why?\n",
    "a = \"This is a string.\"\n",
    "a += 2\n"
   ]
  },
  {
   "cell_type": "code",
   "execution_count": null,
   "id": "2b9839c9",
   "metadata": {},
   "outputs": [],
   "source": [
    "# Comparison Operators\n",
    "# They will look at two values and return True or False based on the result of the comparison.\n",
    "# Pretty self-explanatory.\n",
    "\n",
    "a = \"This is a string.\"\n",
    "b = 'This is a string.'\n",
    "\n",
    "print(a==b)                 # compares a to b, and will return True if the two are the same.\n",
    "\n",
    "\n",
    "# When using > or < operators with strings, Python will check which one comes first ALPHABETICALLY.\n",
    "# (ex: the order you would find these words/phrases in a standard English dictionary)\n",
    "# To make things easy, I've put the variables below in alphabetical order already:\n",
    "\n",
    "c = 'chocolate'\n",
    "d = 'chocolate syrup'\n",
    "e = 'vinegar'\n",
    "f = 'vinegar'\n",
    "\n",
    "print (c < d)              # should return True, because 'chocolate' alphabetically appears before 'chocolate syrup'\n",
    "print (d > e)              # False, because 'chocolate syrup' is alphabetically BEFORE 'vinegar'\n",
    "print (e >= f)             # Returns True - e and f are equal because they have the same value\n",
    "print (c != f)             # checks if c and f are NOT the same word/phrase.  This will return True.\n",
    "\n",
    "\n",
    "# Numeric Examples:\n",
    "x = 5\n",
    "y = 5.5\n",
    "print (x < y)              # This works in Python\n",
    "print (c < x)              # But this does not.  Why?"
   ]
  },
  {
   "cell_type": "code",
   "execution_count": 2,
   "id": "978bbee1",
   "metadata": {},
   "outputs": [
    {
     "name": "stdout",
     "output_type": "stream",
     "text": [
      "True\n",
      "True\n",
      "True\n"
     ]
    }
   ],
   "source": [
    "# Logical Operators\n",
    "# and, or, and not\n",
    "# Note that they SPECIFICALLY have to be lowercase - AND, OR, and NOT will be ignored\n",
    "\n",
    "x = 5.5\n",
    "y = 4\n",
    "z = 3\n",
    "\n",
    "print((x > 5) and (y == 4))    # This will check if both statements (x > 5) and (y == 4) are True\n",
    "                               # and will only return True if all statements are True.\n",
    "print((x < 5) or (y == 4))     # This will return True if at least one of the statements is True\n",
    "                               # We could have a ton of False statements in there, but as long as\n",
    "                               # at least one is True, this will return True.\n",
    "print(not(x < 5))              # This will evaluate the expression in the parentheses first,\n",
    "                               # see what Boolean value it returns, and then flip it\n",
    "                               # to give you the opposite result."
   ]
  },
  {
   "cell_type": "code",
   "execution_count": 3,
   "id": "7a117e28",
   "metadata": {},
   "outputs": [
    {
     "name": "stdout",
     "output_type": "stream",
     "text": [
      "8\n",
      "8\n",
      "False\n",
      "False\n",
      "True\n"
     ]
    }
   ],
   "source": [
    "# Expressions\n",
    "# Expressions are combinations of values, variables, operators, \n",
    "# and function calls that can be evaluated to produce a single value\n",
    "\n",
    "# A simple example:\n",
    "x = 5\n",
    "y = 3\n",
    "sum_result = x + y            # Here, instead of setting sum_result to a value, we are setting it\n",
    "                              # to the result of the sum of two variables, x + y.  This is an expression!\n",
    "print(sum_result)\n",
    "x = 6\n",
    "print(sum_result)            \n",
    "\n",
    "# Note that even though we changed the value of x, the value of sum_result has not changed. Why?\n",
    "# In Python, variables store VALUES, not expressions or references to other variables.\n",
    "# Therefore, sum_result will keep the value it was assigned on line 8, until or unless it is reassigned.\n",
    "\n",
    "is_equal = x == y             # What is happening here?\n",
    "                              # is_equal is a VARIABLE.\n",
    "                              # It will have the VALUE 'True' or 'False' based on whether x == y\n",
    "is_greater = x > y            # Similarly, the variable is_greater will be True or False based on\n",
    "                              # the result of x > y\n",
    "\n",
    "# We can also perform operations with expressions\n",
    "exp_result = x ** y           # the variable exp_result takes on the value of the exponentiation of x and y\n",
    "print(sum_result > exp_result)  # will return True or False based on the comparison of two variables\n",
    "\n",
    "print ((x+y) == (2**2))       # we can even compare an expression to an expression!\n",
    "\n",
    "equality_check = ((x != y) == (not(is_equal)))  # This one might be a little more complicated, but you can figure it out!\n",
    "print(equality_check)\n",
    "\n",
    "# Note the use of parentheses in Lines 28 and 29.\n",
    "# When comparing expressions directly, you need to put them in parentheses\n",
    "# Otherwise Python might mistake them to be part of a greater calculation."
   ]
  },
  {
   "cell_type": "code",
   "execution_count": 4,
   "id": "48908eb3",
   "metadata": {},
   "outputs": [
    {
     "name": "stdout",
     "output_type": "stream",
     "text": [
      "5\n",
      "The value of x is: 5\n",
      "True\n",
      "5\n",
      "None\n",
      "<class 'NoneType'>\n"
     ]
    }
   ],
   "source": [
    "# Functions\n",
    "\n",
    "# Let's take a look at print() and input()\n",
    "\n",
    "# print() will literally print the value of whatever is given inside the parentheses.\n",
    "# It can print the value of a variable:\n",
    "\n",
    "x = 5\n",
    "print(x)\n",
    "\n",
    "# You can also put in a string parameter beforehand so it will print out a specific message:\n",
    "\n",
    "print(\"The value of x is:\", x)\n",
    "\n",
    "# Sidenote: output and return are two different concepts in Python\n",
    "# Example:\n",
    "\n",
    "y = 5\n",
    "x == y             # This will actually return something - you will see an Out[] in Jupyter\n",
    "print(x==y)        # This sends a message to the output, but doesn't return anything\n",
    "\n",
    "# If we try to assign a variable to the value of print, this will not work.\n",
    "# print() doesn't actually return any value:\n",
    "\n",
    "z = print(x)\n",
    "print(z)\n",
    "print(type(z))"
   ]
  },
  {
   "cell_type": "code",
   "execution_count": null,
   "id": "a9144d57",
   "metadata": {},
   "outputs": [],
   "source": [
    "# The input() function requests input from the end user\n",
    "# Unlike print(), input() will return this value\n",
    "# and therefore, you will be able to store it in a variable.\n",
    "# Its returned value is of type string\n",
    "\n",
    "# In Jupyter, your code will stall at an input() function UNTIL a user gives it an input.\n",
    "\n",
    "input()         # This is usually not recommended since it will give a blank prompt.\n",
    "                # Adding a message helps!\n",
    "\n",
    "input(\"Hello there! Please give me something to work with:\")\n",
    "\n",
    "# Because input() returns a value, we can store it in a variable\n",
    "user_input = input(\"Give me something to work with:\")\n",
    "print(user_input)\n",
    "print(type(user_input))\n",
    "\n",
    "# and we can use it just the same as any other string!\n",
    "\n",
    "print(user_input > \"a\")\n",
    "user_input += \" <-- this was your earlier input!\"\n",
    "print(user_input)"
   ]
  },
  {
   "cell_type": "code",
   "execution_count": null,
   "id": "08791126",
   "metadata": {},
   "outputs": [],
   "source": []
  }
 ],
 "metadata": {
  "kernelspec": {
   "display_name": "Python 3 (ipykernel)",
   "language": "python",
   "name": "python3"
  },
  "language_info": {
   "codemirror_mode": {
    "name": "ipython",
    "version": 3
   },
   "file_extension": ".py",
   "mimetype": "text/x-python",
   "name": "python",
   "nbconvert_exporter": "python",
   "pygments_lexer": "ipython3",
   "version": "3.11.4"
  }
 },
 "nbformat": 4,
 "nbformat_minor": 5
}
